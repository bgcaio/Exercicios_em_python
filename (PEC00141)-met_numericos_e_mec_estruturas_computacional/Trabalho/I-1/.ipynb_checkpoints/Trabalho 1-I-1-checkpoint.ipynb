{
 "cells": [
  {
   "cell_type": "markdown",
   "metadata": {},
   "source": [
    "# Trabalho 1 - Método Numéricos (PEC00141)\n",
    "\n",
    "---\n",
    "\n",
    "[1.Dados](#section_1)\n",
    "\n",
    "[2.Inserindo os dados](#section_2)\n",
    "\n",
    "[3.Plotagem da estrutura](#section_3)\n",
    "\n",
    "[4.Comprimento das barras e cos e sen diretores](#section_4)\n",
    "\n",
    "[5.Montagem da matriz de rigidez](#section_5)\n",
    "\n",
    "[6.Aplicação das condições de contorno](#section_6)\n",
    "\n",
    "[6.1 Montagem do vetor de forças](#section_6.1)\n",
    "\n",
    "[7.Resolução da equação de equilíbrio](#section_7)\n",
    "\n",
    "[8.Plotagem da treliça deformada](#section_8)\n",
    "\n",
    "[9.Determinação dos esforços](#section_9)\n",
    "\n",
    "---"
   ]
  },
  {
   "cell_type": "markdown",
   "metadata": {},
   "source": [
    "## 1. Dados <a name=\"section_1\"></a>\n",
    "Para a estrutura ilustrada na figura abaixo:\n",
    "<img src=\"imagem.PNG\" style=\"width:300px;height:500px\"/>\n",
    "As áreas das barras A e B são 10E03 mm² e 15E03 mm². A área da barra C pode variar entre 0 e 40E03 mm². Fazer um gráfico indicando a variação de força em cada barra em função da área da barra C. Considerando que o mesmo material é empregado para as três barras e que este apresenta tensão admissível de 140 MPa, para qual valor de área da barra C se apresenta a maior relação entre capacidade de carga e peso próprio. Adotou-se E=200GPa e P=1kN"
   ]
  },
  {
   "cell_type": "markdown",
   "metadata": {},
   "source": [
    "## 2. Inserindo os dados <a name=\"section_2\"></a>\n",
    "\n",
    "Importação de módulos que serão utilizados"
   ]
  },
  {
   "cell_type": "code",
   "execution_count": 1,
   "metadata": {},
   "outputs": [],
   "source": [
    "import pandas as pd \n",
    "import numpy as np\n",
    "import matplotlib.pyplot as plt"
   ]
  },
  {
   "cell_type": "markdown",
   "metadata": {},
   "source": [
    "Há 3 barras e 4 nós e 8 gdl (2 por nó). A numeração dos graus de liberdade é feita nó a nó, onde **a direção x tem o primeiro gdl do nó e a direção y o segundo**, dessa forma, a numeração dos gdls para o nó n é dada por:\n",
    "\\begin{align}\n",
    "gdl_h &= 2n-1\\\\\n",
    "gdl_v &= 2n\n",
    "\\end{align}\n",
    "\n",
    "Importação do excel (as unidades estão em metros e em Newtons):"
   ]
  },
  {
   "cell_type": "code",
   "execution_count": 2,
   "metadata": {},
   "outputs": [
    {
     "data": {
      "text/html": [
       "<div>\n",
       "<style scoped>\n",
       "    .dataframe tbody tr th:only-of-type {\n",
       "        vertical-align: middle;\n",
       "    }\n",
       "\n",
       "    .dataframe tbody tr th {\n",
       "        vertical-align: top;\n",
       "    }\n",
       "\n",
       "    .dataframe thead th {\n",
       "        text-align: right;\n",
       "    }\n",
       "</style>\n",
       "<table border=\"1\" class=\"dataframe\">\n",
       "  <thead>\n",
       "    <tr style=\"text-align: right;\">\n",
       "      <th></th>\n",
       "      <th>X</th>\n",
       "      <th>Y</th>\n",
       "      <th>RX</th>\n",
       "      <th>RY</th>\n",
       "      <th>FX</th>\n",
       "      <th>FY</th>\n",
       "      <th>dx</th>\n",
       "      <th>dy</th>\n",
       "    </tr>\n",
       "  </thead>\n",
       "  <tbody>\n",
       "    <tr>\n",
       "      <th>1</th>\n",
       "      <td>0</td>\n",
       "      <td>8.660254</td>\n",
       "      <td>1.0</td>\n",
       "      <td>1.0</td>\n",
       "      <td>0.0</td>\n",
       "      <td>0.0</td>\n",
       "      <td>0.0</td>\n",
       "      <td>0.0</td>\n",
       "    </tr>\n",
       "    <tr>\n",
       "      <th>2</th>\n",
       "      <td>5</td>\n",
       "      <td>8.660254</td>\n",
       "      <td>0.0</td>\n",
       "      <td>0.0</td>\n",
       "      <td>0.0</td>\n",
       "      <td>-1000.0</td>\n",
       "      <td>0.0</td>\n",
       "      <td>0.0</td>\n",
       "    </tr>\n",
       "    <tr>\n",
       "      <th>3</th>\n",
       "      <td>0</td>\n",
       "      <td>3.660254</td>\n",
       "      <td>1.0</td>\n",
       "      <td>1.0</td>\n",
       "      <td>0.0</td>\n",
       "      <td>0.0</td>\n",
       "      <td>0.0</td>\n",
       "      <td>0.0</td>\n",
       "    </tr>\n",
       "    <tr>\n",
       "      <th>4</th>\n",
       "      <td>0</td>\n",
       "      <td>0.000000</td>\n",
       "      <td>1.0</td>\n",
       "      <td>1.0</td>\n",
       "      <td>0.0</td>\n",
       "      <td>0.0</td>\n",
       "      <td>0.0</td>\n",
       "      <td>0.0</td>\n",
       "    </tr>\n",
       "  </tbody>\n",
       "</table>\n",
       "</div>"
      ],
      "text/plain": [
       "   X         Y   RX   RY   FX      FY   dx   dy\n",
       "1  0  8.660254  1.0  1.0  0.0     0.0  0.0  0.0\n",
       "2  5  8.660254  0.0  0.0  0.0 -1000.0  0.0  0.0\n",
       "3  0  3.660254  1.0  1.0  0.0     0.0  0.0  0.0\n",
       "4  0  0.000000  1.0  1.0  0.0     0.0  0.0  0.0"
      ]
     },
     "execution_count": 2,
     "metadata": {},
     "output_type": "execute_result"
    }
   ],
   "source": [
    "nos = pd.read_excel('dados_de_entrada.xlsx', sheet_name='Nós')\n",
    "barras = pd.read_excel('dados_de_entrada.xlsx', sheet_name='Barras')\n",
    "\n",
    "# Acertando os números dos nós e das barras conforme a figura (iniciando em 1)\n",
    "nos.index += 1\n",
    "barras.index += 1\n",
    "\n",
    "# Trocando celulas vazias por zeros\n",
    "nos.fillna(0, inplace=True)\n",
    "\n",
    "# Printando os valores na tela\n",
    "nos"
   ]
  },
  {
   "cell_type": "code",
   "execution_count": 3,
   "metadata": {},
   "outputs": [
    {
     "data": {
      "text/html": [
       "<div>\n",
       "<style scoped>\n",
       "    .dataframe tbody tr th:only-of-type {\n",
       "        vertical-align: middle;\n",
       "    }\n",
       "\n",
       "    .dataframe tbody tr th {\n",
       "        vertical-align: top;\n",
       "    }\n",
       "\n",
       "    .dataframe thead th {\n",
       "        text-align: right;\n",
       "    }\n",
       "</style>\n",
       "<table border=\"1\" class=\"dataframe\">\n",
       "  <thead>\n",
       "    <tr style=\"text-align: right;\">\n",
       "      <th></th>\n",
       "      <th>N1</th>\n",
       "      <th>N2</th>\n",
       "      <th>A</th>\n",
       "      <th>E</th>\n",
       "    </tr>\n",
       "  </thead>\n",
       "  <tbody>\n",
       "    <tr>\n",
       "      <th>1</th>\n",
       "      <td>1</td>\n",
       "      <td>2</td>\n",
       "      <td>0.010</td>\n",
       "      <td>200000000000</td>\n",
       "    </tr>\n",
       "    <tr>\n",
       "      <th>2</th>\n",
       "      <td>2</td>\n",
       "      <td>3</td>\n",
       "      <td>0.015</td>\n",
       "      <td>200000000000</td>\n",
       "    </tr>\n",
       "    <tr>\n",
       "      <th>3</th>\n",
       "      <td>2</td>\n",
       "      <td>4</td>\n",
       "      <td>0.025</td>\n",
       "      <td>200000000000</td>\n",
       "    </tr>\n",
       "  </tbody>\n",
       "</table>\n",
       "</div>"
      ],
      "text/plain": [
       "   N1  N2      A             E\n",
       "1   1   2  0.010  200000000000\n",
       "2   2   3  0.015  200000000000\n",
       "3   2   4  0.025  200000000000"
      ]
     },
     "execution_count": 3,
     "metadata": {},
     "output_type": "execute_result"
    }
   ],
   "source": [
    "barras"
   ]
  },
  {
   "cell_type": "markdown",
   "metadata": {},
   "source": [
    "## 3. Plotagem da estrutura<a name=\"section_3\"></a> \n",
    "\n",
    "O código abaixo permite a montagem da estrutura plotando elemento a elemento a partir das matrizes das barras e dos nós."
   ]
  },
  {
   "cell_type": "code",
   "execution_count": 4,
   "metadata": {},
   "outputs": [
    {
     "data": {
      "image/png": "[encoded data removed]",
      "text/plain": [
       "<Figure size 576x576 with 1 Axes>"
      ]
     },
     "metadata": {
      "needs_background": "light"
     },
     "output_type": "display_data"
    }
   ],
   "source": [
    "plt.figure(1,figsize=(8,8))\n",
    "plt.ylim(-1,11)\n",
    "\n",
    "# Plotagem dos apoios e das forças\n",
    "for no in nos.index:\n",
    "    X,Y,RX,RY,Fx,Fy,dx,dy = nos.loc[no]  #percorre os valores de X,Y,RX,RY,Fx,Fy,dx,dy na tabela para cada no do for (1,2,3 e 4)\n",
    "\n",
    "    # Aplicação dos vínculos (Se RX restrito aplica sobre gl de X)\n",
    "    if RX == 1:\n",
    "        plt.scatter(X,Y,400,marker =5,zorder = -2,color ='gray')\n",
    "    if RY == 1:\n",
    "        plt.scatter(X,Y,400,marker =6,zorder = -2,color ='gray')\n",
    "\n",
    "    # Aplicação das forças \n",
    "    if Fx >0:\n",
    "        plt.arrow(X-1.5,Y,1,0,width =0.05,color='k')\n",
    "        plt.text(X-1.5,Y,'{:.2E}kN'.format(Fx/1000),va='bottom')\n",
    "    if Fx <0:\n",
    "       plt.arrow(X+1.5,Y,-1,0,width =0.05,color='k')\n",
    "       plt.text(X+.5,Y,'{:.2E}kN'.format(Fx/1000),va='bottom')\n",
    "    if Fy >0:\n",
    "        plt.arrow(X,Y-1.5,0,1,width =0.05,color='k')\n",
    "        plt.text(X,Y,'{:.2E}kN'.format(Fy/1000),va='bottom',rotation=90)\n",
    "    if Fy <0:\n",
    "       plt.arrow(X,Y+1.5,0,-1,width =0.05,color='k')\n",
    "       plt.text(X,Y+.5,'{:.2E}kN'.format(Fy/1000),ha='right',rotation=90)\n",
    "        \n",
    "    # Aplicação dos deslocamentos \n",
    "    if dx != 0:\n",
    "        plt.text(X+0.5,Y-0.5,'Δx={}m'.format(dx),color='black')\n",
    "    if dy != 0:\n",
    "        plt.text(X+0.5,Y-0.5,'Δy={}m'.format(dy),color='black')\n",
    "\n",
    "# Plotagem das barras\n",
    "for barra in barras.index:\n",
    "    # Vamos passar os nós para as variáveis N1 e N2\n",
    "    N1 = barras.loc[barra, 'N1']\n",
    "    N2 = barras.loc[barra, 'N2']\n",
    "\n",
    "    # Agora vamos acessar as coordendas de cada um dos nós\n",
    "    x1, y1 = nos.loc[N1, ['X','Y']]\n",
    "    x2, y2 = nos.loc[N2, ['X','Y']]\n",
    "    y = [y1,y2]\n",
    "    x = [x1,x2]\n",
    "    \n",
    "    plt.plot(x,y,'black')\n",
    "    plt.scatter(x,y, s=80,marker ='o',color ='black')\n",
    "    plt.grid(True)"
   ]
  },
  {
   "cell_type": "markdown",
   "metadata": {},
   "source": [
    "`!É uma forma de conferir se os dados foram inseridos de maneira correta, ou seja, a imagem gerada deve ser compatível com a do problema proposto!`"
   ]
  },
  {
   "cell_type": "markdown",
   "metadata": {},
   "source": [
    "## 4. Comprimento das barras e cos e sen diretores <a name=\"section_4\"></a>\n",
    "\n",
    "Percorre-se o **DataFrame** de `barras` e a cada passo acessa o **DataFrame** de `nos` para obter suas coordendas. Os valores cálculados serão armazenados em **listas** que serão inseridas no **DataFrame** ao fim do processo."
   ]
  },
  {
   "cell_type": "code",
   "execution_count": 5,
   "metadata": {},
   "outputs": [
    {
     "data": {
      "text/html": [
       "<div>\n",
       "<style scoped>\n",
       "    .dataframe tbody tr th:only-of-type {\n",
       "        vertical-align: middle;\n",
       "    }\n",
       "\n",
       "    .dataframe tbody tr th {\n",
       "        vertical-align: top;\n",
       "    }\n",
       "\n",
       "    .dataframe thead th {\n",
       "        text-align: right;\n",
       "    }\n",
       "</style>\n",
       "<table border=\"1\" class=\"dataframe\">\n",
       "  <thead>\n",
       "    <tr style=\"text-align: right;\">\n",
       "      <th></th>\n",
       "      <th>N1</th>\n",
       "      <th>N2</th>\n",
       "      <th>A</th>\n",
       "      <th>E</th>\n",
       "      <th>L</th>\n",
       "      <th>sen</th>\n",
       "      <th>cos</th>\n",
       "    </tr>\n",
       "  </thead>\n",
       "  <tbody>\n",
       "    <tr>\n",
       "      <th>1</th>\n",
       "      <td>1</td>\n",
       "      <td>2</td>\n",
       "      <td>0.010</td>\n",
       "      <td>200000000000</td>\n",
       "      <td>5.000000</td>\n",
       "      <td>0.000000</td>\n",
       "      <td>1.000000</td>\n",
       "    </tr>\n",
       "    <tr>\n",
       "      <th>2</th>\n",
       "      <td>2</td>\n",
       "      <td>3</td>\n",
       "      <td>0.015</td>\n",
       "      <td>200000000000</td>\n",
       "      <td>7.071068</td>\n",
       "      <td>-0.707107</td>\n",
       "      <td>-0.707107</td>\n",
       "    </tr>\n",
       "    <tr>\n",
       "      <th>3</th>\n",
       "      <td>2</td>\n",
       "      <td>4</td>\n",
       "      <td>0.025</td>\n",
       "      <td>200000000000</td>\n",
       "      <td>10.000000</td>\n",
       "      <td>-0.866025</td>\n",
       "      <td>-0.500000</td>\n",
       "    </tr>\n",
       "  </tbody>\n",
       "</table>\n",
       "</div>"
      ],
      "text/plain": [
       "   N1  N2      A             E          L       sen       cos\n",
       "1   1   2  0.010  200000000000   5.000000  0.000000  1.000000\n",
       "2   2   3  0.015  200000000000   7.071068 -0.707107 -0.707107\n",
       "3   2   4  0.025  200000000000  10.000000 -0.866025 -0.500000"
      ]
     },
     "execution_count": 5,
     "metadata": {},
     "output_type": "execute_result"
    }
   ],
   "source": [
    "# Criação de listas vazias para armazenar as variáves\n",
    "Ls   = []\n",
    "sens = []\n",
    "coss = []\n",
    "\n",
    "for barra in barras.index:\n",
    "    # Vamos passar os nós para as variáveis N1 e N2. Por exemplo: quando  barra=4 (no for), N1=3 e N2=4\n",
    "    N1 = barras.loc[barra, 'N1']\n",
    "    N2 = barras.loc[barra, 'N2']\n",
    "\n",
    "    # Agora vamos acessar as coordendas de cada um dos nós. Por exemplo: quando  barra=4 (no for), x1=5, y1=8.66, x2=10, y2=8.66\n",
    "    x1, y1 = nos.loc[N1, ['X','Y']]\n",
    "    x2, y2 = nos.loc[N2, ['X','Y']]\n",
    "\n",
    "    # O comprimento da barra é dado pelo teorema de Pitagoras\n",
    "    Lx = x2 - x1\n",
    "    Ly = y2 - y1\n",
    "    L = np.sqrt(Lx**2 + Ly**2)\n",
    "    \n",
    "    # Os cossenos diretores são então:\n",
    "    sen = Ly/L\n",
    "    cos = Lx/L\n",
    "\n",
    "    # Inserindo nas listas\n",
    "    Ls.append(L)\n",
    "    sens.append(sen)\n",
    "    coss.append(cos)\n",
    "\n",
    "# Agora que saimos do loop vamos inserir no DataFrame\n",
    "barras['L']   = Ls\n",
    "barras['sen'] = sens\n",
    "barras['cos'] = coss\n",
    "\n",
    "# Printando novo DataFrame\n",
    "barras"
   ]
  },
  {
   "cell_type": "markdown",
   "metadata": {},
   "source": [
    "## 5. Montagem da matriz de rigidez<a name=\"section_5\"></a>\n",
    "\n",
    "A matriz de rigidez global é a obtida pela superposição das matrizes de rigidez locais nos respectivos graus de liberdade. Inicialmente a matriz global `K` deve ser pré alocada como uma matriz de zeros."
   ]
  },
  {
   "cell_type": "code",
   "execution_count": 6,
   "metadata": {},
   "outputs": [],
   "source": [
    "maxgl = 2*len(nos)\n",
    "K = np.zeros([maxgl,maxgl])"
   ]
  },
  {
   "cell_type": "markdown",
   "metadata": {},
   "source": [
    "A alocação é realizada percorrendo todas as barras novamente, cálculando suas matrizes de rigidez local e alocando suas componentes na matriz global."
   ]
  },
  {
   "cell_type": "code",
   "execution_count": 7,
   "metadata": {},
   "outputs": [
    {
     "name": "stdout",
     "output_type": "stream",
     "text": [
      "[[ 4.e+08  0.e+00 -4.e+08  0.e+00]\n",
      " [ 0.e+00  0.e+00  0.e+00  0.e+00]\n",
      " [-4.e+08  0.e+00  4.e+08  0.e+00]\n",
      " [ 0.e+00  0.e+00  0.e+00  0.e+00]]\n",
      "[[ 2.12132034e+08  2.12132034e+08 -2.12132034e+08 -2.12132034e+08]\n",
      " [ 2.12132034e+08  2.12132034e+08 -2.12132034e+08 -2.12132034e+08]\n",
      " [-2.12132034e+08 -2.12132034e+08  2.12132034e+08  2.12132034e+08]\n",
      " [-2.12132034e+08 -2.12132034e+08  2.12132034e+08  2.12132034e+08]]\n",
      "[[ 1.25000000e+08  2.16506351e+08 -1.25000000e+08 -2.16506351e+08]\n",
      " [ 2.16506351e+08  3.75000000e+08 -2.16506351e+08 -3.75000000e+08]\n",
      " [-1.25000000e+08 -2.16506351e+08  1.25000000e+08  2.16506351e+08]\n",
      " [-2.16506351e+08 -3.75000000e+08  2.16506351e+08  3.75000000e+08]]\n"
     ]
    }
   ],
   "source": [
    "for barra in barras.index:\n",
    "    # Vamos importar as propriedades necessárias para construção da matriz local e da matriz de rotação\n",
    "    L   = barras.loc[barra, 'L']\n",
    "    sen = barras.loc[barra, 'sen']\n",
    "    cos = barras.loc[barra, 'cos']\n",
    "    A   = barras.loc[barra, 'A']\n",
    "    E   = barras.loc[barra, 'E']\n",
    "    N1  = barras.loc[barra, 'N1']\n",
    "    N2  = barras.loc[barra, 'N2']\n",
    "\n",
    "    # Matriz de rigidez no sistema local \n",
    "    Kl = E*A/L*np.array([[ 1, 0,-1, 0],\n",
    "                         [ 0, 0, 0, 0], \n",
    "                         [-1, 0, 1, 0],\n",
    "                         [ 0, 0, 0, 0]])\n",
    "\n",
    "    # Matriz de rotação\n",
    "    Mrot = np.array([[ cos,  sen,    0,   0],\n",
    "                     [-sen,  cos,    0,   0],\n",
    "                     [    0,   0,  cos, sen],\n",
    "                     [    0,   0, -sen, cos]])\n",
    "\n",
    "    # Rotação da matriz de coordenadas locais para globais, o np.dot é para multiplicação das matrizes\n",
    "    Klr = np.dot(np.dot(Mrot.T, Kl), Mrot)     \n",
    "\n",
    "    print (Klr)    \n",
    "    \n",
    "    # Cálculo dos graus de liberdade\n",
    "    gl1 = 2*N1 - 1\n",
    "    gl2 = 2*N1 \n",
    "    gl3 = 2*N2 - 1\n",
    "    gl4 = 2*N2\n",
    "\n",
    "    # Aloca a matriz local na matriz global\n",
    "    # Lembrando as propriedades das listas do Python!\n",
    "    K[gl1-1:gl2, gl1-1:gl2] += Klr[0:2, 0:2]\n",
    "    K[gl3-1:gl4, gl1-1:gl2] += Klr[2:4, 0:2]\n",
    "    K[gl1-1:gl2, gl3-1:gl4] += Klr[0:2, 2:4]\n",
    "    K[gl3-1:gl4, gl3-1:gl4] += Klr[2:4, 2:4]\n",
    "    "
   ]
  },
  {
   "cell_type": "markdown",
   "metadata": {},
   "source": [
    "## 6. Aplicação das condições de contorno<a name=\"section_6\"></a>\n",
    "Agora, para solução do problema, a matriz de rigidez global é clonada e as restrições de apoio são impostas zerando as respectivas linhas e colunas."
   ]
  },
  {
   "cell_type": "code",
   "execution_count": 8,
   "metadata": {},
   "outputs": [
    {
     "name": "stdout",
     "output_type": "stream",
     "text": [
      "Aplicando restrição horizontal no nó 1.\n",
      "Aplicando restrição vertical no nó 1.\n",
      "Aplicando restrição horizontal no nó 3.\n",
      "Aplicando restrição vertical no nó 3.\n",
      "Aplicando restrição horizontal no nó 4.\n",
      "Aplicando restrição vertical no nó 4.\n"
     ]
    }
   ],
   "source": [
    "Kcompleta = K.copy()    # Alocando a matriz em outro espaço de memória, pois vou mudar o K,  as será \"conservado\" em Kcompleta\n",
    "\n",
    "for no in nos.index:\n",
    "    RX, RY, dx, dy = nos.loc[no, ['RX','RY','dx','dy']]\n",
    "    # Se RX restrito aplica sobre gl de X\n",
    "    if RX == 1:\n",
    "        gl = 2*no - 1\n",
    "        K[:,    gl-1] = 0\n",
    "        K[gl-1,    :] = 0\n",
    "        K[gl-1, gl-1] = 1\n",
    "        print('Aplicando restrição horizontal no nó {:d}.'.format(no))\n",
    "    \n",
    "    if RY == 1:\n",
    "        gl = 2*no\n",
    "        K[:,    gl-1] = 0\n",
    "        K[gl-1,    :] = 0\n",
    "        K[gl-1, gl-1] = 1\n",
    "        print('Aplicando restrição vertical no nó {:d}.'.format(no))\n",
    "            \n",
    "    # Restrições de deslocamento\n",
    "    if dx != 0:\n",
    "        gl = 2*no - 1\n",
    "        K[:,    gl-1] = 0\n",
    "        K[gl-1,    :] = 0\n",
    "        K[gl-1, gl-1] = 1\n",
    "        print('Aplicando restrição horizontal devido ao deslocamento no nó {:d}.'.format(no))\n",
    "    \n",
    "    if dy != 0:\n",
    "        gl = 2*no\n",
    "        K[:,    gl-1] = 0\n",
    "        K[gl-1,    :] = 0\n",
    "        K[gl-1, gl-1] = 1\n",
    "        print('Aplicando restrição vertical devido ao deslocamento no nó {:d}.'.format(no))\n"
   ]
  },
  {
   "cell_type": "code",
   "execution_count": 9,
   "metadata": {},
   "outputs": [
    {
     "data": {
      "text/html": [
       "<div>\n",
       "<style scoped>\n",
       "    .dataframe tbody tr th:only-of-type {\n",
       "        vertical-align: middle;\n",
       "    }\n",
       "\n",
       "    .dataframe tbody tr th {\n",
       "        vertical-align: top;\n",
       "    }\n",
       "\n",
       "    .dataframe thead th {\n",
       "        text-align: right;\n",
       "    }\n",
       "</style>\n",
       "<table border=\"1\" class=\"dataframe\">\n",
       "  <thead>\n",
       "    <tr style=\"text-align: right;\">\n",
       "      <th></th>\n",
       "      <th>0</th>\n",
       "      <th>1</th>\n",
       "      <th>2</th>\n",
       "      <th>3</th>\n",
       "      <th>4</th>\n",
       "      <th>5</th>\n",
       "      <th>6</th>\n",
       "      <th>7</th>\n",
       "    </tr>\n",
       "  </thead>\n",
       "  <tbody>\n",
       "    <tr>\n",
       "      <th>0</th>\n",
       "      <td>400000000.0</td>\n",
       "      <td>0.0</td>\n",
       "      <td>-4.000000e+08</td>\n",
       "      <td>0.000000e+00</td>\n",
       "      <td>0.000000e+00</td>\n",
       "      <td>0.000000e+00</td>\n",
       "      <td>0.000000e+00</td>\n",
       "      <td>0.000000e+00</td>\n",
       "    </tr>\n",
       "    <tr>\n",
       "      <th>1</th>\n",
       "      <td>0.0</td>\n",
       "      <td>0.0</td>\n",
       "      <td>0.000000e+00</td>\n",
       "      <td>0.000000e+00</td>\n",
       "      <td>0.000000e+00</td>\n",
       "      <td>0.000000e+00</td>\n",
       "      <td>0.000000e+00</td>\n",
       "      <td>0.000000e+00</td>\n",
       "    </tr>\n",
       "    <tr>\n",
       "      <th>2</th>\n",
       "      <td>-400000000.0</td>\n",
       "      <td>0.0</td>\n",
       "      <td>7.371320e+08</td>\n",
       "      <td>4.286384e+08</td>\n",
       "      <td>-2.121320e+08</td>\n",
       "      <td>-2.121320e+08</td>\n",
       "      <td>-1.250000e+08</td>\n",
       "      <td>-2.165064e+08</td>\n",
       "    </tr>\n",
       "    <tr>\n",
       "      <th>3</th>\n",
       "      <td>0.0</td>\n",
       "      <td>0.0</td>\n",
       "      <td>4.286384e+08</td>\n",
       "      <td>5.871320e+08</td>\n",
       "      <td>-2.121320e+08</td>\n",
       "      <td>-2.121320e+08</td>\n",
       "      <td>-2.165064e+08</td>\n",
       "      <td>-3.750000e+08</td>\n",
       "    </tr>\n",
       "    <tr>\n",
       "      <th>4</th>\n",
       "      <td>0.0</td>\n",
       "      <td>0.0</td>\n",
       "      <td>-2.121320e+08</td>\n",
       "      <td>-2.121320e+08</td>\n",
       "      <td>2.121320e+08</td>\n",
       "      <td>2.121320e+08</td>\n",
       "      <td>0.000000e+00</td>\n",
       "      <td>0.000000e+00</td>\n",
       "    </tr>\n",
       "    <tr>\n",
       "      <th>5</th>\n",
       "      <td>0.0</td>\n",
       "      <td>0.0</td>\n",
       "      <td>-2.121320e+08</td>\n",
       "      <td>-2.121320e+08</td>\n",
       "      <td>2.121320e+08</td>\n",
       "      <td>2.121320e+08</td>\n",
       "      <td>0.000000e+00</td>\n",
       "      <td>0.000000e+00</td>\n",
       "    </tr>\n",
       "    <tr>\n",
       "      <th>6</th>\n",
       "      <td>0.0</td>\n",
       "      <td>0.0</td>\n",
       "      <td>-1.250000e+08</td>\n",
       "      <td>-2.165064e+08</td>\n",
       "      <td>0.000000e+00</td>\n",
       "      <td>0.000000e+00</td>\n",
       "      <td>1.250000e+08</td>\n",
       "      <td>2.165064e+08</td>\n",
       "    </tr>\n",
       "    <tr>\n",
       "      <th>7</th>\n",
       "      <td>0.0</td>\n",
       "      <td>0.0</td>\n",
       "      <td>-2.165064e+08</td>\n",
       "      <td>-3.750000e+08</td>\n",
       "      <td>0.000000e+00</td>\n",
       "      <td>0.000000e+00</td>\n",
       "      <td>2.165064e+08</td>\n",
       "      <td>3.750000e+08</td>\n",
       "    </tr>\n",
       "  </tbody>\n",
       "</table>\n",
       "</div>"
      ],
      "text/plain": [
       "             0    1             2             3             4             5  \\\n",
       "0  400000000.0  0.0 -4.000000e+08  0.000000e+00  0.000000e+00  0.000000e+00   \n",
       "1          0.0  0.0  0.000000e+00  0.000000e+00  0.000000e+00  0.000000e+00   \n",
       "2 -400000000.0  0.0  7.371320e+08  4.286384e+08 -2.121320e+08 -2.121320e+08   \n",
       "3          0.0  0.0  4.286384e+08  5.871320e+08 -2.121320e+08 -2.121320e+08   \n",
       "4          0.0  0.0 -2.121320e+08 -2.121320e+08  2.121320e+08  2.121320e+08   \n",
       "5          0.0  0.0 -2.121320e+08 -2.121320e+08  2.121320e+08  2.121320e+08   \n",
       "6          0.0  0.0 -1.250000e+08 -2.165064e+08  0.000000e+00  0.000000e+00   \n",
       "7          0.0  0.0 -2.165064e+08 -3.750000e+08  0.000000e+00  0.000000e+00   \n",
       "\n",
       "              6             7  \n",
       "0  0.000000e+00  0.000000e+00  \n",
       "1  0.000000e+00  0.000000e+00  \n",
       "2 -1.250000e+08 -2.165064e+08  \n",
       "3 -2.165064e+08 -3.750000e+08  \n",
       "4  0.000000e+00  0.000000e+00  \n",
       "5  0.000000e+00  0.000000e+00  \n",
       "6  1.250000e+08  2.165064e+08  \n",
       "7  2.165064e+08  3.750000e+08  "
      ]
     },
     "execution_count": 9,
     "metadata": {},
     "output_type": "execute_result"
    }
   ],
   "source": [
    "#print (Kcompleta,'\\n')\n",
    "#print (K)\n",
    "\n",
    "Kcompletadf = pd.DataFrame(Kcompleta)\n",
    "Kdf = pd.DataFrame(K)\n",
    "\n",
    "Kcompletadf"
   ]
  },
  {
   "cell_type": "code",
   "execution_count": 10,
   "metadata": {},
   "outputs": [
    {
     "data": {
      "text/html": [
       "<div>\n",
       "<style scoped>\n",
       "    .dataframe tbody tr th:only-of-type {\n",
       "        vertical-align: middle;\n",
       "    }\n",
       "\n",
       "    .dataframe tbody tr th {\n",
       "        vertical-align: top;\n",
       "    }\n",
       "\n",
       "    .dataframe thead th {\n",
       "        text-align: right;\n",
       "    }\n",
       "</style>\n",
       "<table border=\"1\" class=\"dataframe\">\n",
       "  <thead>\n",
       "    <tr style=\"text-align: right;\">\n",
       "      <th></th>\n",
       "      <th>0</th>\n",
       "      <th>1</th>\n",
       "      <th>2</th>\n",
       "      <th>3</th>\n",
       "      <th>4</th>\n",
       "      <th>5</th>\n",
       "      <th>6</th>\n",
       "      <th>7</th>\n",
       "    </tr>\n",
       "  </thead>\n",
       "  <tbody>\n",
       "    <tr>\n",
       "      <th>0</th>\n",
       "      <td>1.0</td>\n",
       "      <td>0.0</td>\n",
       "      <td>0.000000e+00</td>\n",
       "      <td>0.000000e+00</td>\n",
       "      <td>0.0</td>\n",
       "      <td>0.0</td>\n",
       "      <td>0.0</td>\n",
       "      <td>0.0</td>\n",
       "    </tr>\n",
       "    <tr>\n",
       "      <th>1</th>\n",
       "      <td>0.0</td>\n",
       "      <td>1.0</td>\n",
       "      <td>0.000000e+00</td>\n",
       "      <td>0.000000e+00</td>\n",
       "      <td>0.0</td>\n",
       "      <td>0.0</td>\n",
       "      <td>0.0</td>\n",
       "      <td>0.0</td>\n",
       "    </tr>\n",
       "    <tr>\n",
       "      <th>2</th>\n",
       "      <td>0.0</td>\n",
       "      <td>0.0</td>\n",
       "      <td>7.371320e+08</td>\n",
       "      <td>4.286384e+08</td>\n",
       "      <td>0.0</td>\n",
       "      <td>0.0</td>\n",
       "      <td>0.0</td>\n",
       "      <td>0.0</td>\n",
       "    </tr>\n",
       "    <tr>\n",
       "      <th>3</th>\n",
       "      <td>0.0</td>\n",
       "      <td>0.0</td>\n",
       "      <td>4.286384e+08</td>\n",
       "      <td>5.871320e+08</td>\n",
       "      <td>0.0</td>\n",
       "      <td>0.0</td>\n",
       "      <td>0.0</td>\n",
       "      <td>0.0</td>\n",
       "    </tr>\n",
       "    <tr>\n",
       "      <th>4</th>\n",
       "      <td>0.0</td>\n",
       "      <td>0.0</td>\n",
       "      <td>0.000000e+00</td>\n",
       "      <td>0.000000e+00</td>\n",
       "      <td>1.0</td>\n",
       "      <td>0.0</td>\n",
       "      <td>0.0</td>\n",
       "      <td>0.0</td>\n",
       "    </tr>\n",
       "    <tr>\n",
       "      <th>5</th>\n",
       "      <td>0.0</td>\n",
       "      <td>0.0</td>\n",
       "      <td>0.000000e+00</td>\n",
       "      <td>0.000000e+00</td>\n",
       "      <td>0.0</td>\n",
       "      <td>1.0</td>\n",
       "      <td>0.0</td>\n",
       "      <td>0.0</td>\n",
       "    </tr>\n",
       "    <tr>\n",
       "      <th>6</th>\n",
       "      <td>0.0</td>\n",
       "      <td>0.0</td>\n",
       "      <td>0.000000e+00</td>\n",
       "      <td>0.000000e+00</td>\n",
       "      <td>0.0</td>\n",
       "      <td>0.0</td>\n",
       "      <td>1.0</td>\n",
       "      <td>0.0</td>\n",
       "    </tr>\n",
       "    <tr>\n",
       "      <th>7</th>\n",
       "      <td>0.0</td>\n",
       "      <td>0.0</td>\n",
       "      <td>0.000000e+00</td>\n",
       "      <td>0.000000e+00</td>\n",
       "      <td>0.0</td>\n",
       "      <td>0.0</td>\n",
       "      <td>0.0</td>\n",
       "      <td>1.0</td>\n",
       "    </tr>\n",
       "  </tbody>\n",
       "</table>\n",
       "</div>"
      ],
      "text/plain": [
       "     0    1             2             3    4    5    6    7\n",
       "0  1.0  0.0  0.000000e+00  0.000000e+00  0.0  0.0  0.0  0.0\n",
       "1  0.0  1.0  0.000000e+00  0.000000e+00  0.0  0.0  0.0  0.0\n",
       "2  0.0  0.0  7.371320e+08  4.286384e+08  0.0  0.0  0.0  0.0\n",
       "3  0.0  0.0  4.286384e+08  5.871320e+08  0.0  0.0  0.0  0.0\n",
       "4  0.0  0.0  0.000000e+00  0.000000e+00  1.0  0.0  0.0  0.0\n",
       "5  0.0  0.0  0.000000e+00  0.000000e+00  0.0  1.0  0.0  0.0\n",
       "6  0.0  0.0  0.000000e+00  0.000000e+00  0.0  0.0  1.0  0.0\n",
       "7  0.0  0.0  0.000000e+00  0.000000e+00  0.0  0.0  0.0  1.0"
      ]
     },
     "execution_count": 10,
     "metadata": {},
     "output_type": "execute_result"
    }
   ],
   "source": [
    "Kdf"
   ]
  },
  {
   "cell_type": "markdown",
   "metadata": {},
   "source": [
    "### 6.1 Montagem do vetor de forças<a name=\"section_6.1\"></a>\n",
    "Com a matriz global restringida é mmontado o vetor de forças aplicadas. Este vetor tem como dimensão o número de graus de liberdade."
   ]
  },
  {
   "cell_type": "code",
   "execution_count": 11,
   "metadata": {},
   "outputs": [
    {
     "name": "stdout",
     "output_type": "stream",
     "text": [
      "[    0.     0.     0. -1000.     0.     0.     0.     0.]\n"
     ]
    }
   ],
   "source": [
    "F = np.zeros(maxgl)\n",
    "Fauxf = np.zeros(maxgl)  #vetor das forças aplicadas\n",
    "Fauxd = np.zeros(maxgl)  #vetor das forças devido aos deslocamentos sofridos\n",
    "Fauxdx = np.zeros(maxgl)  #para contar\n",
    "Fauxdy = np.zeros(maxgl)  #para contar\n",
    "\n",
    "for no in nos.index:\n",
    "    RX, RY, FX, FY, dx, dy = nos.loc[no, ['RX','RY','FX','FY','dx','dy']]\n",
    "    \n",
    "    gl1 = 2*no - 1\n",
    "    gl2 = 2*no\n",
    "    \n",
    "    if FX != 0:\n",
    "        Fauxf[gl1-1] = FX \n",
    "    if FY != 0:\n",
    "        Fauxf[gl2-1] = FY\n",
    "        \n",
    "    if dx != 0:\n",
    "        Fauxdx = -Kcompleta[gl1-1, :]*dx\n",
    "        Fauxdx[gl1-1]=dx\n",
    "        \n",
    "    if dy != 0:\n",
    "        Fauxdy = -Kcompleta[gl2-1, :]*dy\n",
    "        Fauxdy[gl2-1]=dy\n",
    "        \n",
    "    Fauxd =(Fauxdx+Fauxdy)\n",
    "    \n",
    "    if RX == 1:\n",
    "        Fauxd[gl1-1]=0\n",
    "    if RY == 1:\n",
    "        Fauxd[gl2-1]=0\n",
    "    \n",
    "F=Fauxf+Fauxd\n",
    "print(F)"
   ]
  },
  {
   "cell_type": "markdown",
   "metadata": {},
   "source": [
    "## 7. Resolução da equação de equilíbrio<a name=\"section_7\"></a>"
   ]
  },
  {
   "cell_type": "code",
   "execution_count": 12,
   "metadata": {},
   "outputs": [
    {
     "name": "stdout",
     "output_type": "stream",
     "text": [
      "[ 0.00000000e+00  0.00000000e+00  1.72100410e-06 -2.95962121e-06\n",
      "  0.00000000e+00  0.00000000e+00  0.00000000e+00  0.00000000e+00]\n"
     ]
    }
   ],
   "source": [
    "U = np.linalg.solve(K, F)\n",
    "print (U)"
   ]
  },
  {
   "cell_type": "markdown",
   "metadata": {},
   "source": [
    "## 8. Plotagem da treliça deformada<a name=\"section_8\"></a>\n",
    "Em posse dos valores de deslocamento, é possível realizar a plotagem da treliça deslocada, junto com suas reações de apoio.\n"
   ]
  },
  {
   "cell_type": "code",
   "execution_count": 13,
   "metadata": {},
   "outputs": [
    {
     "data": {
      "image/png": "[encoded data removed]",
      "text/plain": [
       "<Figure size 576x576 with 1 Axes>"
      ]
     },
     "metadata": {
      "needs_background": "light"
     },
     "output_type": "display_data"
    }
   ],
   "source": [
    "e = 50           #escala da deformação\n",
    "for barra in barras.index:\n",
    "    # Vamos passar os nós para as variáveis N1 e N2\n",
    "    N1 = barras.loc[barra, 'N1']\n",
    "    N2 = barras.loc[barra, 'N2']\n",
    "\n",
    "    # Agora vamos acessar as coordendas de cada um dos nós\n",
    "    x1, y1  = nos.loc[N1, ['X','Y']]\n",
    "    x2, y2  = nos.loc[N2, ['X','Y']]\n",
    "\n",
    "    DX = np.array([U[2*N1-2],U[2*N2-2]])\n",
    "    DY = np.array([U[2*N1-1],U[2*N2-1]])\n",
    "    y = [y1,y2]\n",
    "    x = [x1,x2]\n",
    "    plt.figure(1,figsize=(8,8))\n",
    "    plt.plot(x,y,'g:')\n",
    "    plt.plot(x+DX*e,y+DY*e,'black')\n",
    "    plt.scatter(x+DX*e,y+DY*e, s=80,marker ='o',color ='black')\n",
    "    plt.grid(True)\n",
    "\n",
    "_=plt.title('Treliça deformada')"
   ]
  },
  {
   "cell_type": "markdown",
   "metadata": {},
   "source": [
    "O cálculo das reações de apoio é feito a partir do produto da matriz de rigidez pelos deslocamentos."
   ]
  },
  {
   "cell_type": "code",
   "execution_count": 14,
   "metadata": {},
   "outputs": [
    {
     "name": "stdout",
     "output_type": "stream",
     "text": [
      "[ -688.40164065     0.             0.         -1000.\n",
      "   262.750366     262.750366     425.65127465   737.249634  ]\n"
     ]
    }
   ],
   "source": [
    "R = np.dot(Kcompleta,U)\n",
    "print(R)"
   ]
  },
  {
   "cell_type": "markdown",
   "metadata": {},
   "source": [
    "Agora, para a realização da plotagem, é necessário escolher apenas os graus de liberdade que são restritos."
   ]
  },
  {
   "cell_type": "code",
   "execution_count": 15,
   "metadata": {},
   "outputs": [
    {
     "data": {
      "image/png": "[encoded data removed]",
      "text/plain": [
       "<Figure size 576x576 with 1 Axes>"
      ]
     },
     "metadata": {
      "needs_background": "light"
     },
     "output_type": "display_data"
    }
   ],
   "source": [
    "plt.figure(1,figsize=(8,8))\n",
    "plt.xlim(-3,6)\n",
    "plt.ylim(-1,10)\n",
    "\n",
    "# Plotagem dos apoios e das forças\n",
    "for no in nos.index:\n",
    "    X,Y,RX,RY= nos.loc[no,['X','Y','RX','RY']]\n",
    "\n",
    "    gl1 = 2*no - 1\n",
    "    gl2 = 2*no \n",
    "    Fx = R[gl1-1]\n",
    "    Fy = R[gl2-1]\n",
    "\n",
    "    # Se RX restrito aplica sobre gl de X\n",
    "    if RX == 1:\n",
    "        plt.arrow(X-1.5,Y,1,0,width =0.05,color='k')\n",
    "        plt.text(X-2.0,Y,'{:.3E}kN'.format(Fx/1000),va='bottom')\n",
    "    if RY == 1:\n",
    "        plt.arrow(X,Y,0,1,width =0.05,color='k')\n",
    "        plt.text(X+0.2,Y+0.8,'{:.3E}kN'.format(Fy/1000),va='bottom')\n",
    "\n",
    "# Plotagem das barras\n",
    "for barra in barras.index:\n",
    "    # Vamos passar os nós para as variáveis N1 e N2\n",
    "    N1 = barras.loc[barra, 'N1']\n",
    "    N2 = barras.loc[barra, 'N2']\n",
    "\n",
    "    # Agora vamos acessar as coordendas de cada um dos nós\n",
    "    x1, y1 = nos.loc[N1, ['X','Y']]\n",
    "    x2, y2 = nos.loc[N2, ['X','Y']]\n",
    "    y = [y1,y2]\n",
    "    x = [x1,x2]\n",
    "    \n",
    "    plt.plot(x,y,'black')\n",
    "    plt.scatter(x,y, s=80,marker ='o',color ='black')\n",
    "    plt.grid(True)"
   ]
  },
  {
   "cell_type": "markdown",
   "metadata": {},
   "source": [
    "## 9. Determinação dos esforços<a name=\"section_9\"></a>\n",
    "Para finalizar a análise, calcula-se os esforços atuantes em cada elemento, para isso, realiza-se o script abaixo:"
   ]
  },
  {
   "cell_type": "code",
   "execution_count": 16,
   "metadata": {},
   "outputs": [
    {
     "name": "stdout",
     "output_type": "stream",
     "text": [
      "[688.4016406501672, -371.58513111674574, -851.3025492988481]\n"
     ]
    }
   ],
   "source": [
    "Esf = []\n",
    "\n",
    "for barra in barras.index:\n",
    "    # Vamos importar as propriedades necessárias para construção da matriz local e da matriz de rotação\n",
    "    L   = barras.loc[barra, 'L']\n",
    "    sen = barras.loc[barra, 'sen']\n",
    "    cos = barras.loc[barra, 'cos']\n",
    "    A   = barras.loc[barra, 'A']\n",
    "    E   = barras.loc[barra, 'E']\n",
    "    N1  = barras.loc[barra, 'N1']\n",
    "    N2  = barras.loc[barra, 'N2']\n",
    "\n",
    "    # Matriz de rigidez no sistema local \n",
    "    Kl = E*A/L*np.array([[ 1, 0,-1, 0],\n",
    "                         [ 0, 0, 0, 0], \n",
    "                         [-1, 0, 1, 0],\n",
    "                         [ 0, 0, 0, 0]])\n",
    "\n",
    "    # Matriz de rotação\n",
    "    Mrot = np.array([[ cos,  sen,    0,   0],\n",
    "                     [-sen,  cos,    0,   0],\n",
    "                     [    0,   0,  cos, sen],\n",
    "                     [    0,   0, -sen, cos]])\n",
    "    # Recebendo os deslocamentos referentes ao elemento em análise\n",
    "    Ul = np.zeros(4)\n",
    "    Ul[0] = U[2*N1-2]\n",
    "    Ul[1] = U[2*N1-1]\n",
    "    Ul[2] = U[2*N2-2]\n",
    "    Ul[3] = U[2*N2-1]\n",
    "\n",
    "    # Realizando o equilíbrio local\n",
    "\n",
    "    F = np.dot(Kl,np.dot(Mrot,Ul))\n",
    "\n",
    "    # Salvando o terceiro valor do vetor de forças por convenção de sinais.\n",
    "    Esf.append(F[2])\n",
    "print (Esf)"
   ]
  },
  {
   "cell_type": "markdown",
   "metadata": {},
   "source": [
    "Agora, plota-se os esforços. As barras comprimidas estão identificadas pela cor azul e as tracionadas pela cor vermelha."
   ]
  },
  {
   "cell_type": "code",
   "execution_count": 17,
   "metadata": {},
   "outputs": [
    {
     "data": {
      "image/png": "[encoded data removed]",
      "text/plain": [
       "<Figure size 576x576 with 1 Axes>"
      ]
     },
     "metadata": {
      "needs_background": "light"
     },
     "output_type": "display_data"
    }
   ],
   "source": [
    "for barra in barras.index:\n",
    "    # Vamos passar os nós para as variáveis N1 e N2\n",
    "    N1 = barras.loc[barra, 'N1']\n",
    "    N2 = barras.loc[barra, 'N2']\n",
    "    ax = Esf[barra-1]\n",
    "    cos = barras.loc[barra, 'cos']\n",
    "    sen = barras.loc[barra, 'sen']\n",
    "    tg  = sen/cos\n",
    "    # Agora vamos acessar as coordendas de cada um dos nós\n",
    "    x1, y1  = nos.loc[N1, ['X','Y']]\n",
    "    x2, y2  = nos.loc[N2, ['X','Y']]\n",
    "    y = [y1,y2]\n",
    "    x = [x1,x2]\n",
    "\n",
    "    plt.figure(1,figsize=(8,8))\n",
    "    if ax>0:\n",
    "        cor = 'r'\n",
    "    elif ax == 0:\n",
    "        cor = 'k'\n",
    "    else:\n",
    "        cor = 'b'\n",
    "    plt.plot(x,y,cor,zorder = -1)\n",
    "\n",
    "    plt.text(np.mean(x),np.mean(y),'{:.2f}kN'.format(ax/1000),rotation =180*np.arctan(tg)/np.pi,\n",
    "            horizontalalignment='center',\n",
    "            verticalalignment='center',\n",
    "            size = 16,\n",
    "            weight = 'bold')\n",
    "\n",
    "    plt.scatter(x,y, s=80,marker ='o',color ='black')\n",
    "\n",
    "_=plt.title('Esforços atuantes')\n",
    "plt.grid(True)"
   ]
  }
 ],
 "metadata": {
  "kernelspec": {
   "display_name": "Python 3",
   "language": "python",
   "name": "python3"
  },
  "language_info": {
   "codemirror_mode": {
    "name": "ipython",
    "version": 3
   },
   "file_extension": ".py",
   "mimetype": "text/x-python",
   "name": "python",
   "nbconvert_exporter": "python",
   "pygments_lexer": "ipython3",
   "version": "3.8.5"
  }
 },
 "nbformat": 4,
 "nbformat_minor": 4
}
