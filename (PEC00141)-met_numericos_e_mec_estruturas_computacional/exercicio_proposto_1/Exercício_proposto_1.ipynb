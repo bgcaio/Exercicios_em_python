{
 "cells": [
  {
   "cell_type": "markdown",
   "metadata": {},
   "source": [
    "# Exercício Proposto 1 - Método Numéricos (PEC00141)\n",
    "\n",
    "---\n",
    "\n",
    "[1.Dados](#section_1)\n",
    "\n",
    "[2.Inserindo os dados](#section_2)\n",
    "\n",
    "[3.Plotagem da estrutura](#section_3)\n",
    "\n",
    "[4.Comprimento das barras e cos e sen diretores](#section_4)\n",
    "\n",
    "[5.Montagem da matriz de rigidez](#section_5)\n",
    "\n",
    "[6.Aplicação das condições de contorno](#section_6)\n",
    "\n",
    "[6.1 Montagem do vetor de forças](#section_6.1)\n",
    "\n",
    "[7.Resolução da equação de equilíbrio](#section_7)\n",
    "\n",
    "[8.Plotagem da treliça deformada](#section_8)\n",
    "\n",
    "[9.Determinação dos esforços](#section_9)\n",
    "\n",
    "---"
   ]
  },
  {
   "cell_type": "markdown",
   "metadata": {},
   "source": [
    "`Créditos ao minicurso do CEMACOM`:https://www.youtube.com/watch?v=0lo3t2k4zLI&list=PLMAtwHzjmH0APh2PbWldGniwGccPdn5u9&ab_channel=CEMACOM"
   ]
  },
  {
   "cell_type": "markdown",
   "metadata": {},
   "source": [
    "## 1. Dados <a name=\"section_1\"></a>\n",
    "Para a treliça ilustrada na figura abaixo:\n",
    "<img src=\"imagem.jpg\" style=\"width:400px;height:400px\"/>\n",
    "\n",
    "1. montar a matriz de rigidez global;\n",
    "2. montar o vetor de cargas;\n",
    "3. introduzir as condições de contorno;\n",
    "4. calcular os deslocamentos. \n",
    "\n",
    "Considerar que todas as barras são feitas de material com $E = 2x10^{8} kN/m^{2}$ e as barras têm\n",
    "seções transversais com áreas: $A1=A2=0,01m^{2}$, $A3=A4=A5=0,015m^{2}$. Notar que o **apoio 2 sofre um cedimento de 0,03m**."
   ]
  },
  {
   "cell_type": "markdown",
   "metadata": {},
   "source": [
    "## 2. Inserindo os dados <a name=\"section_2\"></a>\n",
    "\n",
    "Importação de módulos que serão utilizados"
   ]
  },
  {
   "cell_type": "code",
   "execution_count": 1,
   "metadata": {},
   "outputs": [],
   "source": [
    "import pandas as pd \n",
    "import numpy as np\n",
    "import matplotlib.pyplot as plt"
   ]
  },
  {
   "cell_type": "markdown",
   "metadata": {},
   "source": [
    "`!!!`\n",
    "Há 5 barras de treliça plana, 4 nós e 8 gdl (2 por nó). A numeração dos graus de liberdade é feita nó a nó, onde **a direção x tem o primeiro gdl do nó e a direção y o segundo**, dessa forma, a numeração dos gdls para o nó n é dada por:\n",
    "\\begin{align}\n",
    "gdl_h &= 2n-1\\\\\n",
    "gdl_v &= 2n\n",
    "\\end{align}\n",
    "\n",
    "Importação do excel (as unidades estão em metros e em Newtons):"
   ]
  },
  {
   "cell_type": "code",
   "execution_count": 5,
   "metadata": {},
   "outputs": [
    {
     "data": {
      "text/html": [
       "<div>\n",
       "<style scoped>\n",
       "    .dataframe tbody tr th:only-of-type {\n",
       "        vertical-align: middle;\n",
       "    }\n",
       "\n",
       "    .dataframe tbody tr th {\n",
       "        vertical-align: top;\n",
       "    }\n",
       "\n",
       "    .dataframe thead th {\n",
       "        text-align: right;\n",
       "    }\n",
       "</style>\n",
       "<table border=\"1\" class=\"dataframe\">\n",
       "  <thead>\n",
       "    <tr style=\"text-align: right;\">\n",
       "      <th></th>\n",
       "      <th>X</th>\n",
       "      <th>Y</th>\n",
       "      <th>RX</th>\n",
       "      <th>RY</th>\n",
       "      <th>FX</th>\n",
       "      <th>FY</th>\n",
       "      <th>dx</th>\n",
       "      <th>dy</th>\n",
       "    </tr>\n",
       "  </thead>\n",
       "  <tbody>\n",
       "    <tr>\n",
       "      <th>1</th>\n",
       "      <td>0</td>\n",
       "      <td>0.000000</td>\n",
       "      <td>1.0</td>\n",
       "      <td>1.0</td>\n",
       "      <td>0.0</td>\n",
       "      <td>0.0</td>\n",
       "      <td>0.0</td>\n",
       "      <td>0.00</td>\n",
       "    </tr>\n",
       "    <tr>\n",
       "      <th>2</th>\n",
       "      <td>5</td>\n",
       "      <td>0.000000</td>\n",
       "      <td>0.0</td>\n",
       "      <td>1.0</td>\n",
       "      <td>0.0</td>\n",
       "      <td>0.0</td>\n",
       "      <td>0.0</td>\n",
       "      <td>-0.03</td>\n",
       "    </tr>\n",
       "    <tr>\n",
       "      <th>3</th>\n",
       "      <td>5</td>\n",
       "      <td>8.660254</td>\n",
       "      <td>0.0</td>\n",
       "      <td>0.0</td>\n",
       "      <td>10000.0</td>\n",
       "      <td>0.0</td>\n",
       "      <td>0.0</td>\n",
       "      <td>0.00</td>\n",
       "    </tr>\n",
       "    <tr>\n",
       "      <th>4</th>\n",
       "      <td>10</td>\n",
       "      <td>8.660254</td>\n",
       "      <td>0.0</td>\n",
       "      <td>1.0</td>\n",
       "      <td>0.0</td>\n",
       "      <td>0.0</td>\n",
       "      <td>0.0</td>\n",
       "      <td>0.00</td>\n",
       "    </tr>\n",
       "  </tbody>\n",
       "</table>\n",
       "</div>"
      ],
      "text/plain": [
       "    X         Y   RX   RY       FX   FY   dx    dy\n",
       "1   0  0.000000  1.0  1.0      0.0  0.0  0.0  0.00\n",
       "2   5  0.000000  0.0  1.0      0.0  0.0  0.0 -0.03\n",
       "3   5  8.660254  0.0  0.0  10000.0  0.0  0.0  0.00\n",
       "4  10  8.660254  0.0  1.0      0.0  0.0  0.0  0.00"
      ]
     },
     "execution_count": 5,
     "metadata": {},
     "output_type": "execute_result"
    }
   ],
   "source": [
    "nos = pd.read_excel('dados_de_entrada.xlsx', sheet_name='Nós')\n",
    "barras = pd.read_excel('dados_de_entrada.xlsx', sheet_name='Barras')\n",
    "\n",
    "# Acertando os números dos nós e das barras conforme a figura (iniciando em 1)\n",
    "nos.index += 1\n",
    "barras.index += 1\n",
    "\n",
    "# Trocando celulas vazias por zeros\n",
    "nos.fillna(0, inplace=True)\n",
    "\n",
    "# Printando os valores na tela\n",
    "nos"
   ]
  },
  {
   "cell_type": "code",
   "execution_count": 6,
   "metadata": {},
   "outputs": [
    {
     "data": {
      "text/html": [
       "<div>\n",
       "<style scoped>\n",
       "    .dataframe tbody tr th:only-of-type {\n",
       "        vertical-align: middle;\n",
       "    }\n",
       "\n",
       "    .dataframe tbody tr th {\n",
       "        vertical-align: top;\n",
       "    }\n",
       "\n",
       "    .dataframe thead th {\n",
       "        text-align: right;\n",
       "    }\n",
       "</style>\n",
       "<table border=\"1\" class=\"dataframe\">\n",
       "  <thead>\n",
       "    <tr style=\"text-align: right;\">\n",
       "      <th></th>\n",
       "      <th>N1</th>\n",
       "      <th>N2</th>\n",
       "      <th>A</th>\n",
       "      <th>E</th>\n",
       "    </tr>\n",
       "  </thead>\n",
       "  <tbody>\n",
       "    <tr>\n",
       "      <th>1</th>\n",
       "      <td>1</td>\n",
       "      <td>2</td>\n",
       "      <td>0.010</td>\n",
       "      <td>200000000000</td>\n",
       "    </tr>\n",
       "    <tr>\n",
       "      <th>2</th>\n",
       "      <td>3</td>\n",
       "      <td>4</td>\n",
       "      <td>0.010</td>\n",
       "      <td>200000000000</td>\n",
       "    </tr>\n",
       "    <tr>\n",
       "      <th>3</th>\n",
       "      <td>1</td>\n",
       "      <td>3</td>\n",
       "      <td>0.015</td>\n",
       "      <td>200000000000</td>\n",
       "    </tr>\n",
       "    <tr>\n",
       "      <th>4</th>\n",
       "      <td>2</td>\n",
       "      <td>4</td>\n",
       "      <td>0.015</td>\n",
       "      <td>200000000000</td>\n",
       "    </tr>\n",
       "    <tr>\n",
       "      <th>5</th>\n",
       "      <td>2</td>\n",
       "      <td>3</td>\n",
       "      <td>0.015</td>\n",
       "      <td>200000000000</td>\n",
       "    </tr>\n",
       "  </tbody>\n",
       "</table>\n",
       "</div>"
      ],
      "text/plain": [
       "   N1  N2      A             E\n",
       "1   1   2  0.010  200000000000\n",
       "2   3   4  0.010  200000000000\n",
       "3   1   3  0.015  200000000000\n",
       "4   2   4  0.015  200000000000\n",
       "5   2   3  0.015  200000000000"
      ]
     },
     "execution_count": 6,
     "metadata": {},
     "output_type": "execute_result"
    }
   ],
   "source": [
    "barras"
   ]
  },
  {
   "cell_type": "markdown",
   "metadata": {},
   "source": [
    "## 3. Plotagem da estrutura<a name=\"section_3\"></a> \n",
    "\n",
    "O código abaixo permite a montagem da estrutura plotando elemento a elemento a partir das matrizes das barras e dos nós."
   ]
  },
  {
   "cell_type": "code",
   "execution_count": 14,
   "metadata": {},
   "outputs": [
    {
     "data": {
      "image/png": "[encoded data removed]",
      "text/plain": [
       "<Figure size 576x432 with 1 Axes>"
      ]
     },
     "metadata": {
      "needs_background": "light"
     },
     "output_type": "display_data"
    }
   ],
   "source": [
    "plt.figure(1,figsize=(8,6))\n",
    "plt.ylim(-1,10)\n",
    "\n",
    "# Plotagem dos apoios e das forças\n",
    "for no in nos.index:\n",
    "    X,Y,RX,RY,Fx,Fy,dx,dy = nos.loc[no]  #percorre os valores de X,Y,RX,RY,Fx,Fy,dx,dy na tabela para cada no do for (1,2,3 e 4)\n",
    "\n",
    "    # Aplicação dos vínculos (Se RX restrito aplica sobre gl de X)\n",
    "    if RX == 1:\n",
    "        plt.scatter(X,Y,400,marker =5,zorder = -2,color ='gray')\n",
    "    if RY == 1:\n",
    "        plt.scatter(X,Y,400,marker =6,zorder = -2,color ='gray')\n",
    "\n",
    "    # Aplicação das forças \n",
    "    if Fx >0:\n",
    "        plt.arrow(X-1.5,Y,1,0,width =0.05,color='k')\n",
    "        plt.text(X-1.5,Y,'{}kN'.format(Fx/1000),va='bottom')\n",
    "    if Fx <0:\n",
    "       plt.arrow(X+1.5,Y,-1,0,width =0.05,color='k')\n",
    "       plt.text(X+.5,Y,'{}kN'.format(Fx/1000),va='bottom')\n",
    "    if Fy >0:\n",
    "        plt.arrow(X,Y-1.5,0,1,width =0.05,color='k')\n",
    "        plt.text(X,Y,'{}kN'.format(Fy/1000),va='bottom',rotation=90)\n",
    "    if Fy <0:\n",
    "       plt.arrow(X,Y+1.5,0,-1,width =0.05,color='k')\n",
    "       plt.text(X,Y+.5,'{}kN'.format(Fy/1000),ha='right',rotation=90)\n",
    "        \n",
    "    # Aplicação dos deslocamentos \n",
    "    if dx != 0:\n",
    "        plt.text(X+0.5,Y-0.5,'Δx={}m'.format(dx),color='black')\n",
    "    if dy != 0:\n",
    "        plt.text(X+0.5,Y-0.5,'Δy={}m'.format(dy),color='black')\n",
    "\n",
    "# Plotagem das barras\n",
    "for barra in barras.index:\n",
    "    # Vamos passar os nós para as variáveis N1 e N2\n",
    "    N1 = barras.loc[barra, 'N1']\n",
    "    N2 = barras.loc[barra, 'N2']\n",
    "\n",
    "    # Agora vamos acessar as coordendas de cada um dos nós\n",
    "    x1, y1 = nos.loc[N1, ['X','Y']]\n",
    "    x2, y2 = nos.loc[N2, ['X','Y']]\n",
    "    y = [y1,y2]\n",
    "    x = [x1,x2]\n",
    "    \n",
    "    plt.plot(x,y,'black')\n",
    "    plt.scatter(x,y, s=80,marker ='o',color ='black')\n",
    "    plt.grid(True)"
   ]
  },
  {
   "cell_type": "markdown",
   "metadata": {},
   "source": [
    "`!É uma forma de conferir se os dados foram inseridos de maneira correta, ou seja, a imagem gerada deve ser compatível com a do problema proposto!`"
   ]
  },
  {
   "cell_type": "markdown",
   "metadata": {},
   "source": [
    "## 4. Comprimento das barras e cos e sen diretores <a name=\"section_4\"></a>\n",
    "\n",
    "Percorre-se o **DataFrame** de `barras` e a cada passo acessa o **DataFrame** de `nos` para obter suas coordendas. Os valores cálculados serão armazenados em **listas** que serão inseridas no **DataFrame** ao fim do processo."
   ]
  },
  {
   "cell_type": "code",
   "execution_count": 15,
   "metadata": {},
   "outputs": [
    {
     "data": {
      "text/html": [
       "<div>\n",
       "<style scoped>\n",
       "    .dataframe tbody tr th:only-of-type {\n",
       "        vertical-align: middle;\n",
       "    }\n",
       "\n",
       "    .dataframe tbody tr th {\n",
       "        vertical-align: top;\n",
       "    }\n",
       "\n",
       "    .dataframe thead th {\n",
       "        text-align: right;\n",
       "    }\n",
       "</style>\n",
       "<table border=\"1\" class=\"dataframe\">\n",
       "  <thead>\n",
       "    <tr style=\"text-align: right;\">\n",
       "      <th></th>\n",
       "      <th>N1</th>\n",
       "      <th>N2</th>\n",
       "      <th>A</th>\n",
       "      <th>E</th>\n",
       "      <th>L</th>\n",
       "      <th>sen</th>\n",
       "      <th>cos</th>\n",
       "    </tr>\n",
       "  </thead>\n",
       "  <tbody>\n",
       "    <tr>\n",
       "      <th>1</th>\n",
       "      <td>1</td>\n",
       "      <td>2</td>\n",
       "      <td>0.010</td>\n",
       "      <td>200000000000</td>\n",
       "      <td>5.000000</td>\n",
       "      <td>0.000000</td>\n",
       "      <td>1.0</td>\n",
       "    </tr>\n",
       "    <tr>\n",
       "      <th>2</th>\n",
       "      <td>3</td>\n",
       "      <td>4</td>\n",
       "      <td>0.010</td>\n",
       "      <td>200000000000</td>\n",
       "      <td>5.000000</td>\n",
       "      <td>0.000000</td>\n",
       "      <td>1.0</td>\n",
       "    </tr>\n",
       "    <tr>\n",
       "      <th>3</th>\n",
       "      <td>1</td>\n",
       "      <td>3</td>\n",
       "      <td>0.015</td>\n",
       "      <td>200000000000</td>\n",
       "      <td>10.000000</td>\n",
       "      <td>0.866025</td>\n",
       "      <td>0.5</td>\n",
       "    </tr>\n",
       "    <tr>\n",
       "      <th>4</th>\n",
       "      <td>2</td>\n",
       "      <td>4</td>\n",
       "      <td>0.015</td>\n",
       "      <td>200000000000</td>\n",
       "      <td>10.000000</td>\n",
       "      <td>0.866025</td>\n",
       "      <td>0.5</td>\n",
       "    </tr>\n",
       "    <tr>\n",
       "      <th>5</th>\n",
       "      <td>2</td>\n",
       "      <td>3</td>\n",
       "      <td>0.015</td>\n",
       "      <td>200000000000</td>\n",
       "      <td>8.660254</td>\n",
       "      <td>1.000000</td>\n",
       "      <td>0.0</td>\n",
       "    </tr>\n",
       "  </tbody>\n",
       "</table>\n",
       "</div>"
      ],
      "text/plain": [
       "   N1  N2      A             E          L       sen  cos\n",
       "1   1   2  0.010  200000000000   5.000000  0.000000  1.0\n",
       "2   3   4  0.010  200000000000   5.000000  0.000000  1.0\n",
       "3   1   3  0.015  200000000000  10.000000  0.866025  0.5\n",
       "4   2   4  0.015  200000000000  10.000000  0.866025  0.5\n",
       "5   2   3  0.015  200000000000   8.660254  1.000000  0.0"
      ]
     },
     "execution_count": 15,
     "metadata": {},
     "output_type": "execute_result"
    }
   ],
   "source": [
    "# Criação de listas vazias para armazenar as variáves\n",
    "Ls   = []\n",
    "sens = []\n",
    "coss = []\n",
    "\n",
    "for barra in barras.index:\n",
    "    # Vamos passar os nós para as variáveis N1 e N2. Por exemplo: quando  barra=4 (no for), N1=3 e N2=4\n",
    "    N1 = barras.loc[barra, 'N1']\n",
    "    N2 = barras.loc[barra, 'N2']\n",
    "\n",
    "    # Agora vamos acessar as coordendas de cada um dos nós. Por exemplo: quando  barra=4 (no for), x1=5, y1=8.66, x2=10, y2=8.66\n",
    "    x1, y1 = nos.loc[N1, ['X','Y']]\n",
    "    x2, y2 = nos.loc[N2, ['X','Y']]\n",
    "\n",
    "    # O comprimento da barra é dado pelo teorema de Pitagoras\n",
    "    Lx = x2 - x1\n",
    "    Ly = y2 - y1\n",
    "    L = np.sqrt(Lx**2 + Ly**2)\n",
    "    \n",
    "    # Os cossenos diretores são então:\n",
    "    sen = Ly/L\n",
    "    cos = Lx/L\n",
    "\n",
    "    # Inserindo nas listas\n",
    "    Ls.append(L)\n",
    "    sens.append(sen)\n",
    "    coss.append(cos)\n",
    "\n",
    "# Agora que saimos do loop vamos inserir no DataFrame\n",
    "barras['L']   = Ls\n",
    "barras['sen'] = sens\n",
    "barras['cos'] = coss\n",
    "\n",
    "# Printando novo DataFrame\n",
    "barras"
   ]
  },
  {
   "cell_type": "markdown",
   "metadata": {},
   "source": [
    "## 5. Montagem da matriz de rigidez<a name=\"section_5\"></a>\n",
    "Em posse das propriedades das barras pode-se montar as matrizes de rigidez locais e acoplalas na matriz de rigidez global. Por se tratar de barras de treliça plana cada nó possui 2 graus de liberdade (deslocamentos horizontal e vertical), portanto em treliças planas o números de graus de liberdade sempre será o dobro do número de nós. \n",
    "\n",
    "Neste nosso exemplo teremos então 8 graus de liberdade, esses são numerados em função do número do nó conforme as expressões, já mencionadas, a seguir:\n",
    "$$gdl_h=2n-1$$\n",
    "$$gdl_v=2n$$\n",
    "\n",
    "Nossa matriz de rigidez global será então uma matriz de ordem `8x8`, em que os graus de liberdade ímpares correspondem aos deslocamentos horizontais e pares aos verticais.\n",
    "\n",
    "A matriz de rigidez global é a obtida pela superposição das matrizes de rigidez locais nos respectivos graus de liberdade. Inicialmente a matriz global `K` deve ser pré alocada como uma matriz de zeros."
   ]
  },
  {
   "cell_type": "code",
   "execution_count": 16,
   "metadata": {},
   "outputs": [],
   "source": [
    "maxgl = 2*len(nos)\n",
    "K = np.zeros([maxgl,maxgl])"
   ]
  },
  {
   "cell_type": "markdown",
   "metadata": {},
   "source": [
    "A alocação é realizada percorrendo todas as barras novamente, cálculando suas matrizes de rigidez local e alocando suas componentes na matriz global."
   ]
  },
  {
   "cell_type": "code",
   "execution_count": 17,
   "metadata": {},
   "outputs": [],
   "source": [
    "for barra in barras.index:\n",
    "    # Vamos importar as propriedades necessárias para construção da matriz local e da matriz de rotação\n",
    "    L   = barras.loc[barra, 'L']\n",
    "    sen = barras.loc[barra, 'sen']\n",
    "    cos = barras.loc[barra, 'cos']\n",
    "    A   = barras.loc[barra, 'A']\n",
    "    E   = barras.loc[barra, 'E']\n",
    "    N1  = barras.loc[barra, 'N1']\n",
    "    N2  = barras.loc[barra, 'N2']\n",
    "\n",
    "    # Matriz de rigidez no sistema local \n",
    "    Kl = E*A/L*np.array([[ 1, 0,-1, 0],\n",
    "                         [ 0, 0, 0, 0], \n",
    "                         [-1, 0, 1, 0],\n",
    "                         [ 0, 0, 0, 0]])\n",
    "\n",
    "    # Matriz de rotação\n",
    "    Mrot = np.array([[ cos,  sen,    0,   0],\n",
    "                     [-sen,  cos,    0,   0],\n",
    "                     [    0,   0,  cos, sen],\n",
    "                     [    0,   0, -sen, cos]])\n",
    "\n",
    "    # Rotação da matriz de coordenadas locais para globais, o np.dot é para multiplicação das matrizes\n",
    "    Klr = np.dot(np.dot(Mrot.T, Kl), Mrot)     \n",
    "\n",
    "    # Cálculo dos graus de liberdade\n",
    "    gl1 = 2*N1 - 1\n",
    "    gl2 = 2*N1 \n",
    "    gl3 = 2*N2 - 1\n",
    "    gl4 = 2*N2\n",
    "\n",
    "    # Aloca a matriz local na matriz global\n",
    "    # Lembrando as propriedades das listas do Python!\n",
    "    K[gl1-1:gl2, gl1-1:gl2] += Klr[0:2, 0:2]\n",
    "    K[gl3-1:gl4, gl1-1:gl2] += Klr[2:4, 0:2]\n",
    "    K[gl1-1:gl2, gl3-1:gl4] += Klr[0:2, 2:4]\n",
    "    K[gl3-1:gl4, gl3-1:gl4] += Klr[2:4, 2:4]\n",
    "    "
   ]
  },
  {
   "cell_type": "markdown",
   "metadata": {},
   "source": [
    "## 6. Aplicação das condições de contorno<a name=\"section_6\"></a>\n",
    "Agora, para solução do problema, a matriz de rigidez global é clonada e as restrições de apoio são impostas zerando as respectivas linhas e colunas."
   ]
  },
  {
   "cell_type": "code",
   "execution_count": 18,
   "metadata": {},
   "outputs": [
    {
     "name": "stdout",
     "output_type": "stream",
     "text": [
      "Aplicando restrição horizontal no nó 1.\n",
      "Aplicando restrição vertical no nó 1.\n",
      "Aplicando restrição vertical no nó 2.\n",
      "Aplicando restrição vertical devido ao deslocamento no nó 2.\n",
      "Aplicando restrição vertical no nó 4.\n"
     ]
    }
   ],
   "source": [
    "Kcompleta = K.copy()    # Alocando a matriz em outro espaço de memória, pois vou mudar o K,  as será \"conservado\" em Kcompleta\n",
    "\n",
    "for no in nos.index:\n",
    "    RX, RY, dx, dy = nos.loc[no, ['RX','RY','dx','dy']]\n",
    "    # Se RX restrito aplica sobre gl de X\n",
    "    if RX == 1:\n",
    "        gl = 2*no - 1\n",
    "        K[:,    gl-1] = 0\n",
    "        K[gl-1,    :] = 0\n",
    "        K[gl-1, gl-1] = 1\n",
    "        print('Aplicando restrição horizontal no nó {:d}.'.format(no))\n",
    "    \n",
    "    if RY == 1:\n",
    "        gl = 2*no\n",
    "        K[:,    gl-1] = 0\n",
    "        K[gl-1,    :] = 0\n",
    "        K[gl-1, gl-1] = 1\n",
    "        print('Aplicando restrição vertical no nó {:d}.'.format(no))\n",
    "            \n",
    "    # Restrições de deslocamento\n",
    "    if dx != 0:\n",
    "        gl = 2*no - 1\n",
    "        K[:,    gl-1] = 0\n",
    "        K[gl-1,    :] = 0\n",
    "        K[gl-1, gl-1] = 1\n",
    "        print('Aplicando restrição horizontal devido ao deslocamento no nó {:d}.'.format(no))\n",
    "    \n",
    "    if dy != 0:\n",
    "        gl = 2*no\n",
    "        K[:,    gl-1] = 0\n",
    "        K[gl-1,    :] = 0\n",
    "        K[gl-1, gl-1] = 1\n",
    "        print('Aplicando restrição vertical devido ao deslocamento no nó {:d}.'.format(no))\n"
   ]
  },
  {
   "cell_type": "markdown",
   "metadata": {},
   "source": [
    "Notar que foi redundante, pois já havia a restrição do apoio, mas caso não tivesse o apoio restringindo, a aplicação da condição de contorno devido ao deslocamento estaria correta!"
   ]
  },
  {
   "cell_type": "code",
   "execution_count": 19,
   "metadata": {},
   "outputs": [],
   "source": [
    "#print (Kcompleta,'\\n')\n",
    "#print (K)"
   ]
  },
  {
   "cell_type": "markdown",
   "metadata": {},
   "source": [
    "### 6.1 Montagem do vetor de forças<a name=\"section_6.1\"></a>\n",
    "Com a matriz global restringida vamos montar o vetor de forças aplicadas. Este vetor tem como dimensão o número de graus de liberdade."
   ]
  },
  {
   "cell_type": "code",
   "execution_count": 20,
   "metadata": {},
   "outputs": [
    {
     "name": "stdout",
     "output_type": "stream",
     "text": [
      "[ 0.00000000e+00  0.00000000e+00  3.89711432e+06 -3.00000000e-02\n",
      "  1.00000000e+04 -1.03923048e+07 -3.89711432e+06  0.00000000e+00]\n"
     ]
    }
   ],
   "source": [
    "F = np.zeros(maxgl)\n",
    "Fauxf = np.zeros(maxgl)  #vetor das forças aplicadas\n",
    "Fauxd = np.zeros(maxgl)  #vetor das forças devido aos deslocamentos sofridos\n",
    "Fauxdx = np.zeros(maxgl)  #para contar\n",
    "Fauxdy = np.zeros(maxgl)  #para contar\n",
    "\n",
    "for no in nos.index:\n",
    "    RX, RY, FX, FY, dx, dy = nos.loc[no, ['RX','RY','FX','FY','dx','dy']]\n",
    "    \n",
    "    gl1 = 2*no - 1\n",
    "    gl2 = 2*no\n",
    "    \n",
    "    if FX != 0:\n",
    "        Fauxf[gl1-1] = FX \n",
    "    if FY != 0:\n",
    "        Fauxf[gl2-1] = FY\n",
    "        \n",
    "    if dx != 0:\n",
    "        Fauxdx = -Kcompleta[gl1-1, :]*dx\n",
    "        Fauxdx[gl1-1]=dx\n",
    "        \n",
    "    if dy != 0:\n",
    "        Fauxdy = -Kcompleta[gl2-1, :]*dy\n",
    "        Fauxdy[gl2-1]=dy\n",
    "        \n",
    "    Fauxd =(Fauxdx+Fauxdy)\n",
    "    \n",
    "    if RX == 1:\n",
    "        Fauxd[gl1-1]=0\n",
    "    if RY == 1:\n",
    "        Fauxd[gl2-1]=0\n",
    "    \n",
    "F=Fauxf+Fauxd\n",
    "print(F)"
   ]
  },
  {
   "cell_type": "markdown",
   "metadata": {},
   "source": [
    "**`Esta aplicação só serve quando há um deslocamento, pois não foi programado para somar os deslocamento!`**"
   ]
  },
  {
   "cell_type": "markdown",
   "metadata": {},
   "source": [
    "## 7. Resolução da equação de equilíbrio<a name=\"section_7\"></a>"
   ]
  },
  {
   "cell_type": "code",
   "execution_count": 21,
   "metadata": {},
   "outputs": [
    {
     "name": "stdout",
     "output_type": "stream",
     "text": [
      "[ 0.          0.          0.00645617 -0.03       -0.00461628 -0.01713766\n",
      " -0.01107245  0.        ]\n"
     ]
    }
   ],
   "source": [
    "U = np.linalg.solve(K, F)\n",
    "print (U)"
   ]
  },
  {
   "cell_type": "markdown",
   "metadata": {},
   "source": [
    "## 8. Plotagem da treliça deformada<a name=\"section_8\"></a>\n",
    "Em posse dos valores de deslocamento, é possível realizar a plotagem da treliça deslocada, junto com suas reações de apoio.\n",
    "\n",
    "**!!!Continuar revisão a partir daqui!!!**"
   ]
  },
  {
   "cell_type": "code",
   "execution_count": 28,
   "metadata": {},
   "outputs": [
    {
     "data": {
      "image/png": "[encoded data removed]",
      "text/plain": [
       "<Figure size 576x432 with 1 Axes>"
      ]
     },
     "metadata": {
      "needs_background": "light"
     },
     "output_type": "display_data"
    }
   ],
   "source": [
    "e = 50           #escala da deformação\n",
    "for barra in barras.index:\n",
    "    # Vamos passar os nós para as variáveis N1 e N2\n",
    "    N1 = barras.loc[barra, 'N1']\n",
    "    N2 = barras.loc[barra, 'N2']\n",
    "\n",
    "    # Agora vamos acessar as coordendas de cada um dos nós\n",
    "    x1, y1  = nos.loc[N1, ['X','Y']]\n",
    "    x2, y2  = nos.loc[N2, ['X','Y']]\n",
    "\n",
    "    DX = np.array([U[2*N1-2],U[2*N2-2]])\n",
    "    DY = np.array([U[2*N1-1],U[2*N2-1]])\n",
    "    y = [y1,y2]\n",
    "    x = [x1,x2]\n",
    "    plt.figure(1,figsize=(8,6))\n",
    "    plt.plot(x,y,'g:')\n",
    "    plt.plot(x+DX*e,y+DY*e,'black')\n",
    "    plt.scatter(x+DX*e,y+DY*e, s=80,marker ='o',color ='black')\n",
    "    plt.grid(True)\n",
    "\n",
    "_=plt.title('Treliça deformada')"
   ]
  },
  {
   "cell_type": "markdown",
   "metadata": {},
   "source": [
    "Como comentado na fundamentação teórica, o cálculo das reações de apoio é feito a partir do produto da matriz de rigidez pelos deslocamentos."
   ]
  },
  {
   "cell_type": "code",
   "execution_count": 27,
   "metadata": {},
   "outputs": [
    {
     "name": "stdout",
     "output_type": "stream",
     "text": [
      "[-1.00000000e+04  4.45564537e+06  0.00000000e+00 -8.92861124e+06\n",
      "  1.00000000e+04 -1.86264515e-09  6.98491931e-10  4.47296587e+06]\n"
     ]
    }
   ],
   "source": [
    "R = np.dot(Kcompleta,U)\n",
    "print(R)"
   ]
  },
  {
   "cell_type": "markdown",
   "metadata": {},
   "source": [
    "Agora, para a realização da plotagem, é necessário escolher apenas os graus de liberdade que são restritos."
   ]
  },
  {
   "cell_type": "code",
   "execution_count": 30,
   "metadata": {},
   "outputs": [
    {
     "data": {
      "image/png": "[encoded data removed]",
      "text/plain": [
       "<Figure size 576x432 with 1 Axes>"
      ]
     },
     "metadata": {
      "needs_background": "light"
     },
     "output_type": "display_data"
    }
   ],
   "source": [
    "plt.figure(1,figsize=(8,6))\n",
    "plt.xlim(-2,12)\n",
    "plt.ylim(-1,11)\n",
    "\n",
    "# Plotagem dos apoios e das forças\n",
    "for no in nos.index:\n",
    "    X,Y,RX,RY= nos.loc[no,['X','Y','RX','RY']]\n",
    "\n",
    "    gl1 = 2*no - 1\n",
    "    gl2 = 2*no \n",
    "    Fx = R[gl1-1]\n",
    "    Fy = R[gl2-1]\n",
    "\n",
    "    # Se RX restrito aplica sobre gl de X\n",
    "    if RX == 1:\n",
    "        plt.arrow(X-1.5,Y,1,0,width =0.05,color='k')\n",
    "        plt.text(X-1.5,Y,'{:.2f}kN'.format(Fx/1000),va='bottom')\n",
    "    if RY == 1:\n",
    "        plt.arrow(X,Y,0,1,width =0.05,color='k')\n",
    "        plt.text(X+0.2,Y+0.8,'{:.2f}kN'.format(Fy/1000),va='bottom')\n",
    "\n",
    "# Plotagem das barras\n",
    "for barra in barras.index:\n",
    "    # Vamos passar os nós para as variáveis N1 e N2\n",
    "    N1 = barras.loc[barra, 'N1']\n",
    "    N2 = barras.loc[barra, 'N2']\n",
    "\n",
    "    # Agora vamos acessar as coordendas de cada um dos nós\n",
    "    x1, y1 = nos.loc[N1, ['X','Y']]\n",
    "    x2, y2 = nos.loc[N2, ['X','Y']]\n",
    "    y = [y1,y2]\n",
    "    x = [x1,x2]\n",
    "    \n",
    "    plt.plot(x,y,'black')\n",
    "    plt.scatter(x,y, s=80,marker ='o',color ='black')\n",
    "    plt.grid(True)"
   ]
  },
  {
   "cell_type": "markdown",
   "metadata": {},
   "source": [
    "## 9. Determinação dos esforços<a name=\"section_9\"></a>\n",
    "Para finalizar a análise, é interessante o cálculo dos esforços atuantes em cada elemento, para isso, realiza-se o script abaixo:"
   ]
  },
  {
   "cell_type": "code",
   "execution_count": 31,
   "metadata": {},
   "outputs": [],
   "source": [
    "Esf = []\n",
    "\n",
    "for barra in barras.index:\n",
    "    # Vamos importar as propriedades necessárias para construção da matriz local e da matriz de rotação\n",
    "    L   = barras.loc[barra, 'L']\n",
    "    sen = barras.loc[barra, 'sen']\n",
    "    cos = barras.loc[barra, 'cos']\n",
    "    A   = barras.loc[barra, 'A']\n",
    "    E   = barras.loc[barra, 'E']\n",
    "    N1  = barras.loc[barra, 'N1']\n",
    "    N2  = barras.loc[barra, 'N2']\n",
    "\n",
    "    # Matriz de rigidez no sistema local \n",
    "    Kl = E*A/L*np.array([[ 1, 0,-1, 0],\n",
    "                         [ 0, 0, 0, 0], \n",
    "                         [-1, 0, 1, 0],\n",
    "                         [ 0, 0, 0, 0]])\n",
    "\n",
    "    # Matriz de rotação\n",
    "    Mrot = np.array([[ cos,  sen,    0,   0],\n",
    "                     [-sen,  cos,    0,   0],\n",
    "                     [    0,   0,  cos, sen],\n",
    "                     [    0,   0, -sen, cos]])\n",
    "    # Recebendo os deslocamentos referentes ao elemento em análise\n",
    "    Ul = np.zeros(4)\n",
    "    Ul[0] = U[2*N1-2]\n",
    "    Ul[1] = U[2*N1-1]\n",
    "    Ul[2] = U[2*N2-2]\n",
    "    Ul[3] = U[2*N2-1]\n",
    "\n",
    "    # Realizando o equilíbrio local\n",
    "\n",
    "    F = np.dot(Kl,np.dot(Mrot,Ul))\n",
    "\n",
    "    # Salvando o terceiro valor do vetor de forças por convenção de sinais.\n",
    "    Esf.append(F[2])"
   ]
  },
  {
   "cell_type": "markdown",
   "metadata": {},
   "source": [
    "Agora, vamos plotar os esforços, sinalizando as barras comprimidas pela cor azul e as tracionadas pela cor vermelha."
   ]
  },
  {
   "cell_type": "code",
   "execution_count": 33,
   "metadata": {},
   "outputs": [
    {
     "name": "stderr",
     "output_type": "stream",
     "text": [
      "<ipython-input-33-907f7762370e>:8: RuntimeWarning: divide by zero encountered in double_scalars\n",
      "  tg  = sen/cos\n"
     ]
    },
    {
     "data": {
      "image/png": "[encoded data removed]",
      "text/plain": [
       "<Figure size 576x432 with 1 Axes>"
      ]
     },
     "metadata": {
      "needs_background": "light"
     },
     "output_type": "display_data"
    }
   ],
   "source": [
    "for barra in barras.index:\n",
    "    # Vamos passar os nós para as variáveis N1 e N2\n",
    "    N1 = barras.loc[barra, 'N1']\n",
    "    N2 = barras.loc[barra, 'N2']\n",
    "    ax = Esf[barra-1]\n",
    "    cos = barras.loc[barra, 'cos']\n",
    "    sen = barras.loc[barra, 'sen']\n",
    "    tg  = sen/cos\n",
    "    # Agora vamos acessar as coordendas de cada um dos nós\n",
    "    x1, y1  = nos.loc[N1, ['X','Y']]\n",
    "    x2, y2  = nos.loc[N2, ['X','Y']]\n",
    "    y = [y1,y2]\n",
    "    x = [x1,x2]\n",
    "\n",
    "    plt.figure(1,figsize=(8,6))\n",
    "    if ax>0:\n",
    "        cor = 'r'\n",
    "    elif ax == 0:\n",
    "        cor = 'k'\n",
    "    else:\n",
    "        cor = 'b'\n",
    "    plt.plot(x,y,cor,zorder = -1)\n",
    "\n",
    "    plt.text(np.mean(x),np.mean(y),'{:.2f}kN'.format(ax/1000),rotation =180*np.arctan(tg)/np.pi,\n",
    "            horizontalalignment='center',\n",
    "            verticalalignment='center',\n",
    "            size = 16,\n",
    "            weight = 'bold')\n",
    "\n",
    "    plt.scatter(x,y, s=80,marker ='o',color ='black')\n",
    "    \n",
    "\n",
    "_=plt.title('Esforços atuantes')\n",
    "plt.grid(True)"
   ]
  },
  {
   "cell_type": "code",
   "execution_count": null,
   "metadata": {},
   "outputs": [],
   "source": []
  }
 ],
 "metadata": {
  "kernelspec": {
   "display_name": "Python 3",
   "language": "python",
   "name": "python3"
  },
  "language_info": {
   "codemirror_mode": {
    "name": "ipython",
    "version": 3
   },
   "file_extension": ".py",
   "mimetype": "text/x-python",
   "name": "python",
   "nbconvert_exporter": "python",
   "pygments_lexer": "ipython3",
   "version": "3.8.5"
  }
 },
 "nbformat": 4,
 "nbformat_minor": 4
}
